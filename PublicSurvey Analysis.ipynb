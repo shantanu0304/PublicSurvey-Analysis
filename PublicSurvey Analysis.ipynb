{
 "cells": [
  {
   "cell_type": "markdown",
   "metadata": {},
   "source": [
    "# Insights and Data Analysis report of PublicSurvey 2k18"
   ]
  },
  {
   "cell_type": "markdown",
   "metadata": {},
   "source": [
    "## Instructions-\n",
    "1. In order to view plots made by plotly you must have an account on plotly's official website.\n",
    "- After making the account you need to go the settings.\n",
    "- Then you need to copy Api key from the api key tab to the below specified column after importing plotly.\n",
    "- Then you need to write your user name that you have chosen for the plotly account.\n",
    "- You must have an active internet connection for the whole procedure."
   ]
  },
  {
   "cell_type": "markdown",
   "metadata": {},
   "source": [
    "### Libraries Used"
   ]
  },
  {
   "cell_type": "code",
   "execution_count": 1,
   "metadata": {},
   "outputs": [],
   "source": [
    "import pandas as pd\n",
    "import numpy as np\n",
    "import seaborn as sns\n",
    "import matplotlib.pyplot as plt\n",
    "import plotly.plotly as py\n",
    "import plotly.graph_objs as go\n",
    "import plotly\n",
    "plotly.tools.set_credentials_file(username='shantanu0304',api_key='jkPtfFBPmH9zlXidOH5O') #paste your api key here \n",
    "from bokeh.io import show, output_file,curdoc\n",
    "from bokeh.plotting import figure\n",
    "from bokeh.models.widgets import Panel,Tabs\n",
    "from IPython.display import Image"
   ]
  },
  {
   "cell_type": "code",
   "execution_count": 2,
   "metadata": {},
   "outputs": [],
   "source": [
    "publicData = pd.read_csv(\"Public Opinion Poll.csv\")"
   ]
  },
  {
   "cell_type": "code",
   "execution_count": 3,
   "metadata": {},
   "outputs": [
    {
     "data": {
      "text/html": [
       "<div>\n",
       "<style scoped>\n",
       "    .dataframe tbody tr th:only-of-type {\n",
       "        vertical-align: middle;\n",
       "    }\n",
       "\n",
       "    .dataframe tbody tr th {\n",
       "        vertical-align: top;\n",
       "    }\n",
       "\n",
       "    .dataframe thead th {\n",
       "        text-align: right;\n",
       "    }\n",
       "</style>\n",
       "<table border=\"1\" class=\"dataframe\">\n",
       "  <thead>\n",
       "    <tr style=\"text-align: right;\">\n",
       "      <th></th>\n",
       "      <th>Timestamp</th>\n",
       "      <th>Which age group do you belong to?</th>\n",
       "      <th>What is your profession?</th>\n",
       "      <th>Who is your favourate political leader in India?</th>\n",
       "      <th>Do you think Narendra Modi has the ability to transform India?</th>\n",
       "      <th>How much time do you give to your mobile phone in one day?</th>\n",
       "      <th>What would you like to do in your free time?</th>\n",
       "      <th>What would you do to enhance your knowledge?</th>\n",
       "      <th>Which type of music do you love to listen?</th>\n",
       "      <th>Which type of marriage is best?</th>\n",
       "      <th>Which social networking plateform do you love to use the most?</th>\n",
       "      <th>Which online shopping site do you like to prefer?</th>\n",
       "      <th>How much time you give to your parents in a day?</th>\n",
       "      <th>What would you like to do to remain fit and healthy?</th>\n",
       "      <th>Which shampoo brand would you like to use?</th>\n",
       "      <th>Which toothpaste brand would you like to use?</th>\n",
       "    </tr>\n",
       "  </thead>\n",
       "  <tbody>\n",
       "    <tr>\n",
       "      <th>0</th>\n",
       "      <td>2018/12/09 6:48:29 pm GMT+5:30</td>\n",
       "      <td>11-20 year</td>\n",
       "      <td>Student</td>\n",
       "      <td>Narendra Modi</td>\n",
       "      <td>Yes</td>\n",
       "      <td>1-3 hours</td>\n",
       "      <td>Read Books</td>\n",
       "      <td>Read Newspapers</td>\n",
       "      <td>Romantic</td>\n",
       "      <td>Love Marriage</td>\n",
       "      <td>Watsapp</td>\n",
       "      <td>Flipkart</td>\n",
       "      <td>less than 1 hour</td>\n",
       "      <td>Normal Excercises</td>\n",
       "      <td>Pantene</td>\n",
       "      <td>Colgate</td>\n",
       "    </tr>\n",
       "    <tr>\n",
       "      <th>1</th>\n",
       "      <td>2018/12/09 6:55:34 pm GMT+5:30</td>\n",
       "      <td>31-40 year</td>\n",
       "      <td>Housewife</td>\n",
       "      <td>Narendra Modi</td>\n",
       "      <td>Yes</td>\n",
       "      <td>5-7 hours</td>\n",
       "      <td>Read something new</td>\n",
       "      <td>Read Newspapers</td>\n",
       "      <td>Rock</td>\n",
       "      <td>Arrange Marriage</td>\n",
       "      <td>Watsapp</td>\n",
       "      <td>Amazon</td>\n",
       "      <td>2-3 hours</td>\n",
       "      <td>Normal Excercises</td>\n",
       "      <td>Pantene</td>\n",
       "      <td>Close-Up</td>\n",
       "    </tr>\n",
       "    <tr>\n",
       "      <th>2</th>\n",
       "      <td>2018/12/09 6:57:50 pm GMT+5:30</td>\n",
       "      <td>41-50 year</td>\n",
       "      <td>Housewife</td>\n",
       "      <td>None</td>\n",
       "      <td>Yes</td>\n",
       "      <td>3-5 hours</td>\n",
       "      <td>Hangout with friends</td>\n",
       "      <td>Mobile</td>\n",
       "      <td>Classic</td>\n",
       "      <td>Arrange Marriage</td>\n",
       "      <td>Facebook</td>\n",
       "      <td>Paytm Mall</td>\n",
       "      <td>2-3 hours</td>\n",
       "      <td>Normal Excercises</td>\n",
       "      <td>Sunsilk</td>\n",
       "      <td>Dant Kanti</td>\n",
       "    </tr>\n",
       "    <tr>\n",
       "      <th>3</th>\n",
       "      <td>2018/12/09 7:05:21 pm GMT+5:30</td>\n",
       "      <td>31-40 year</td>\n",
       "      <td>Housewife</td>\n",
       "      <td>Narendra Modi</td>\n",
       "      <td>Yes</td>\n",
       "      <td>greater than 7 hours</td>\n",
       "      <td>Shopping n meetings with friends</td>\n",
       "      <td>Cooking</td>\n",
       "      <td>Romantic</td>\n",
       "      <td>Love Marriage</td>\n",
       "      <td>Watsapp</td>\n",
       "      <td>Paytm Mall</td>\n",
       "      <td>3-4 hours</td>\n",
       "      <td>Dieting</td>\n",
       "      <td>LOreal</td>\n",
       "      <td>Dant Kanti</td>\n",
       "    </tr>\n",
       "    <tr>\n",
       "      <th>4</th>\n",
       "      <td>2018/12/09 7:16:18 pm GMT+5:30</td>\n",
       "      <td>41-50 year</td>\n",
       "      <td>Housewife</td>\n",
       "      <td>none</td>\n",
       "      <td>Yes</td>\n",
       "      <td>3-5 hours</td>\n",
       "      <td>Online bussiness</td>\n",
       "      <td>Mobile</td>\n",
       "      <td>Romantic</td>\n",
       "      <td>Love Marriage</td>\n",
       "      <td>Facebook</td>\n",
       "      <td>Paytm Mall</td>\n",
       "      <td>1-2 hours</td>\n",
       "      <td>Normal Excercises</td>\n",
       "      <td>Dove</td>\n",
       "      <td>Sensodyne</td>\n",
       "    </tr>\n",
       "  </tbody>\n",
       "</table>\n",
       "</div>"
      ],
      "text/plain": [
       "                        Timestamp Which age group do you belong to?  \\\n",
       "0  2018/12/09 6:48:29 pm GMT+5:30                        11-20 year   \n",
       "1  2018/12/09 6:55:34 pm GMT+5:30                        31-40 year   \n",
       "2  2018/12/09 6:57:50 pm GMT+5:30                        41-50 year   \n",
       "3  2018/12/09 7:05:21 pm GMT+5:30                        31-40 year   \n",
       "4  2018/12/09 7:16:18 pm GMT+5:30                        41-50 year   \n",
       "\n",
       "  What is your profession? Who is your favourate political leader in India?  \\\n",
       "0                  Student                                    Narendra Modi   \n",
       "1                Housewife                                    Narendra Modi   \n",
       "2                Housewife                                             None   \n",
       "3                Housewife                                    Narendra Modi   \n",
       "4                Housewife                                             none   \n",
       "\n",
       "  Do you think Narendra Modi has the ability to transform India?  \\\n",
       "0                                                Yes               \n",
       "1                                                Yes               \n",
       "2                                                Yes               \n",
       "3                                                Yes               \n",
       "4                                                Yes               \n",
       "\n",
       "  How much time do you give to your mobile phone in one day?  \\\n",
       "0                                          1-3 hours           \n",
       "1                                          5-7 hours           \n",
       "2                                          3-5 hours           \n",
       "3                               greater than 7 hours           \n",
       "4                                          3-5 hours           \n",
       "\n",
       "  What would you like to do in your free time?  \\\n",
       "0                                   Read Books   \n",
       "1                           Read something new   \n",
       "2                         Hangout with friends   \n",
       "3            Shopping n meetings with friends    \n",
       "4                             Online bussiness   \n",
       "\n",
       "  What would you do to enhance your knowledge?  \\\n",
       "0                              Read Newspapers   \n",
       "1                              Read Newspapers   \n",
       "2                                       Mobile   \n",
       "3                                      Cooking   \n",
       "4                                       Mobile   \n",
       "\n",
       "  Which type of music do you love to listen? Which type of marriage is best?  \\\n",
       "0                                   Romantic                   Love Marriage   \n",
       "1                                       Rock                Arrange Marriage   \n",
       "2                                    Classic                Arrange Marriage   \n",
       "3                                   Romantic                   Love Marriage   \n",
       "4                                   Romantic                   Love Marriage   \n",
       "\n",
       "  Which social networking plateform do you love to use the most?  \\\n",
       "0                                            Watsapp               \n",
       "1                                            Watsapp               \n",
       "2                                           Facebook               \n",
       "3                                            Watsapp               \n",
       "4                                           Facebook               \n",
       "\n",
       "  Which online shopping site do you like to prefer?  \\\n",
       "0                                          Flipkart   \n",
       "1                                            Amazon   \n",
       "2                                        Paytm Mall   \n",
       "3                                        Paytm Mall   \n",
       "4                                        Paytm Mall   \n",
       "\n",
       "  How much time you give to your parents in a day?  \\\n",
       "0                                 less than 1 hour   \n",
       "1                                        2-3 hours   \n",
       "2                                        2-3 hours   \n",
       "3                                        3-4 hours   \n",
       "4                                        1-2 hours   \n",
       "\n",
       "  What would you like to do to remain fit and healthy?  \\\n",
       "0                                  Normal Excercises     \n",
       "1                                  Normal Excercises     \n",
       "2                                  Normal Excercises     \n",
       "3                                            Dieting     \n",
       "4                                  Normal Excercises     \n",
       "\n",
       "  Which shampoo brand would you like to use?  \\\n",
       "0                                    Pantene   \n",
       "1                                    Pantene   \n",
       "2                                    Sunsilk   \n",
       "3                                     LOreal   \n",
       "4                                       Dove   \n",
       "\n",
       "  Which toothpaste brand would you like to use?  \n",
       "0                                       Colgate  \n",
       "1                                      Close-Up  \n",
       "2                                    Dant Kanti  \n",
       "3                                    Dant Kanti  \n",
       "4                                     Sensodyne  "
      ]
     },
     "execution_count": 3,
     "metadata": {},
     "output_type": "execute_result"
    }
   ],
   "source": [
    "publicData.head()"
   ]
  },
  {
   "cell_type": "code",
   "execution_count": 4,
   "metadata": {},
   "outputs": [],
   "source": [
    "publicData['Timestamp']=pd.to_datetime(publicData['Timestamp'])"
   ]
  },
  {
   "cell_type": "code",
   "execution_count": 5,
   "metadata": {},
   "outputs": [],
   "source": [
    "publicData.set_index('Timestamp',inplace=True)"
   ]
  },
  {
   "cell_type": "markdown",
   "metadata": {},
   "source": [
    "## Data Prepration\n",
    "### 1. Handeling Missing values -\n",
    "    - There are two ways to handel missing values, either remove them or fill them with mean/median/mode of data\n",
    "    - The wisest solution is to fill them. Removing missing data can cause significient data loss, and  can also introduce potential biases\n",
    "### 2. Dealing with datatypes -\n",
    "    - There are three main data types:\n",
    "        - Numeric, e.g. income, age\n",
    "        - Categorical, e.g. gender, nationality \n",
    "        - Ordinal, e.g. low/medium/high\n",
    "        \n",
    "    - Models can only handle numeric features\n",
    "    \n",
    "    - Must convert categorical and ordinal features into numeric features\n",
    "        - Create dummy features\n",
    "        - Transform a categorical feature into a set of dummy features, each representing a unique category\n",
    "        - In the set of dummy features, 1 indicates that the observation belongs to that category"
   ]
  },
  {
   "cell_type": "code",
   "execution_count": 6,
   "metadata": {},
   "outputs": [
    {
     "data": {
      "text/plain": [
       "Which age group do you belong to?                                 0\n",
       "What is your profession?                                          0\n",
       "Who is your favourate political leader in India?                  0\n",
       "Do you think Narendra Modi has the ability to transform India?    0\n",
       "How much time do you give to your mobile phone in one day?        0\n",
       "What would you like to do in your free time?                      0\n",
       "What would you do to enhance your knowledge?                      0\n",
       "Which type of music do you love to listen?                        5\n",
       "Which type of marriage is best?                                   0\n",
       "Which social networking plateform do you love to use the most?    0\n",
       "Which online shopping site do you like to prefer?                 0\n",
       "How much time you give to your parents in a day?                  0\n",
       "What would you like to do to remain fit and healthy?              0\n",
       "Which shampoo brand would you like to use?                        0\n",
       "Which toothpaste brand would you like to use?                     0\n",
       "dtype: int64"
      ]
     },
     "execution_count": 6,
     "metadata": {},
     "output_type": "execute_result"
    }
   ],
   "source": [
    "publicData.isna().sum()"
   ]
  },
  {
   "cell_type": "code",
   "execution_count": 7,
   "metadata": {},
   "outputs": [],
   "source": [
    "publicData['Which type of music do you love to listen?']=publicData['Which type of music do you love to listen?'].fillna(\n",
    "    publicData['Which type of music do you love to listen?'].mode().iloc[0])"
   ]
  },
  {
   "cell_type": "code",
   "execution_count": 8,
   "metadata": {},
   "outputs": [
    {
     "name": "stdout",
     "output_type": "stream",
     "text": [
      "<class 'pandas.core.frame.DataFrame'>\n",
      "DatetimeIndex: 148 entries, 2018-12-10 00:18:29 to 2018-12-23 02:35:15\n",
      "Data columns (total 15 columns):\n",
      "Which age group do you belong to?                                 148 non-null object\n",
      "What is your profession?                                          148 non-null object\n",
      "Who is your favourate political leader in India?                  148 non-null object\n",
      "Do you think Narendra Modi has the ability to transform India?    148 non-null object\n",
      "How much time do you give to your mobile phone in one day?        148 non-null object\n",
      "What would you like to do in your free time?                      148 non-null object\n",
      "What would you do to enhance your knowledge?                      148 non-null object\n",
      "Which type of music do you love to listen?                        148 non-null object\n",
      "Which type of marriage is best?                                   148 non-null object\n",
      "Which social networking plateform do you love to use the most?    148 non-null object\n",
      "Which online shopping site do you like to prefer?                 148 non-null object\n",
      "How much time you give to your parents in a day?                  148 non-null object\n",
      "What would you like to do to remain fit and healthy?              148 non-null object\n",
      "Which shampoo brand would you like to use?                        148 non-null object\n",
      "Which toothpaste brand would you like to use?                     148 non-null object\n",
      "dtypes: object(15)\n",
      "memory usage: 18.5+ KB\n"
     ]
    }
   ],
   "source": [
    "publicData.info()"
   ]
  },
  {
   "cell_type": "code",
   "execution_count": 9,
   "metadata": {},
   "outputs": [
    {
     "data": {
      "text/plain": [
       "Student          100\n",
       "Business          20\n",
       "Housewife         15\n",
       "Service           12\n",
       "give teutions      1\n",
       "Name: What is your profession?, dtype: int64"
      ]
     },
     "execution_count": 9,
     "metadata": {},
     "output_type": "execute_result"
    }
   ],
   "source": [
    "publicData['What is your profession?'].value_counts()"
   ]
  },
  {
   "cell_type": "code",
   "execution_count": 10,
   "metadata": {},
   "outputs": [],
   "source": [
    "series1 = publicData['What is your profession?'].value_counts().keys()\n"
   ]
  },
  {
   "cell_type": "code",
   "execution_count": 11,
   "metadata": {},
   "outputs": [],
   "source": [
    "for i in series1:\n",
    "    if i == 'give teutions':\n",
    "        publicData['What is your profession?'].replace(to_replace = i , value = 'Business', inplace = True)"
   ]
  },
  {
   "cell_type": "code",
   "execution_count": 12,
   "metadata": {},
   "outputs": [
    {
     "data": {
      "text/plain": [
       "Narendra Modi                                            121\n",
       "Sushma Swaraj                                              7\n",
       "Arvind Kejriwal                                            4\n",
       "None                                                       3\n",
       "Rahul Gandhi                                               2\n",
       "Arun Jaitley                                               2\n",
       "Akhilesh yadav                                             1\n",
       "Student                                                    1\n",
       "Noone                                                      1\n",
       "I like freedom fighters rather than political leaders      1\n",
       "none                                                       1\n",
       "Aklesh yadav                                               1\n",
       "No one now                                                 1\n",
       "Bhumika😂                                                   1\n",
       "No one                                                     1\n",
       "Name: Who is your favourate political leader in India?, dtype: int64"
      ]
     },
     "execution_count": 12,
     "metadata": {},
     "output_type": "execute_result"
    }
   ],
   "source": [
    "publicData['Who is your favourate political leader in India?'].value_counts()"
   ]
  },
  {
   "cell_type": "code",
   "execution_count": 13,
   "metadata": {},
   "outputs": [],
   "source": [
    "series2 = publicData['Who is your favourate political leader in India?'].value_counts().keys()"
   ]
  },
  {
   "cell_type": "code",
   "execution_count": 14,
   "metadata": {},
   "outputs": [],
   "source": [
    "for i in series2:\n",
    "    if 'No' in i or 'none' in i or 'None' in i:\n",
    "        publicData['Who is your favourate political leader in India?'].replace(to_replace = i , value = 'None' , inplace = True)\n",
    "    elif 'leader' in i or 'leaders' in i or 'Student' in i or 'Bhumika' in i:\n",
    "        publicData['Who is your favourate political leader in India?'].replace(to_replace = i , value = 'None' , inplace = True)\n",
    "    elif 'Akhilesh' in i or 'Aklesh' in i:\n",
    "        publicData['Who is your favourate political leader in India?'].replace(to_replace = i , value = 'Akhilesh Yadav' , inplace = True)\n",
    "        "
   ]
  },
  {
   "cell_type": "code",
   "execution_count": 15,
   "metadata": {},
   "outputs": [
    {
     "data": {
      "text/plain": [
       "Narendra Modi      121\n",
       "None                10\n",
       "Sushma Swaraj        7\n",
       "Arvind Kejriwal      4\n",
       "Rahul Gandhi         2\n",
       "Arun Jaitley         2\n",
       "Akhilesh Yadav       2\n",
       "Name: Who is your favourate political leader in India?, dtype: int64"
      ]
     },
     "execution_count": 15,
     "metadata": {},
     "output_type": "execute_result"
    }
   ],
   "source": [
    "publicData['Who is your favourate political leader in India?'].value_counts()"
   ]
  },
  {
   "cell_type": "code",
   "execution_count": 16,
   "metadata": {},
   "outputs": [
    {
     "data": {
      "text/plain": [
       "1-3 hours               58\n",
       "3-5 hours               41\n",
       "5-7 hours               19\n",
       "greater than 7 hours    16\n",
       "less than 1hour         14\n",
       "Name: How much time do you give to your mobile phone in one day?, dtype: int64"
      ]
     },
     "execution_count": 16,
     "metadata": {},
     "output_type": "execute_result"
    }
   ],
   "source": [
    "publicData['How much time do you give to your mobile phone in one day?'].value_counts()"
   ]
  },
  {
   "cell_type": "code",
   "execution_count": 17,
   "metadata": {},
   "outputs": [
    {
     "data": {
      "text/plain": [
       "Hangout with friends                 52\n",
       "Watch Movies                         27\n",
       "Read something new                   16\n",
       "Read Books                           11\n",
       "Read News                             8\n",
       "Play Computer Games                   7\n",
       "Play Outdoor Games                    7\n",
       "Mobile games or social media          1\n",
       "Dance                                 1\n",
       "Play outdoor sports                   1\n",
       "It's none of your business            1\n",
       "listning songs                        1\n",
       "Using mobile phone                    1\n",
       "Watching Web Series                   1\n",
       "Rotary club activties                 1\n",
       "Watch Youtube                         1\n",
       "Talk to my fiance or take a nap       1\n",
       "Shopping n meetings with friends      1\n",
       "Online bussiness                      1\n",
       "Watch football videos                 1\n",
       "  Spend time with family              1\n",
       "Spend time with my family             1\n",
       "Scooty se Ghumnaa                     1\n",
       "Plan to increase sale !!              1\n",
       "Sleeping                              1\n",
       "Pubg                                  1\n",
       "Watch serials                         1\n",
       "Name: What would you like to do in your free time?, dtype: int64"
      ]
     },
     "execution_count": 17,
     "metadata": {},
     "output_type": "execute_result"
    }
   ],
   "source": [
    "publicData['What would you like to do in your free time?'].value_counts()"
   ]
  },
  {
   "cell_type": "code",
   "execution_count": 18,
   "metadata": {},
   "outputs": [],
   "source": [
    "series3 = publicData['What would you like to do in your free time?'].value_counts().keys()"
   ]
  },
  {
   "cell_type": "code",
   "execution_count": 19,
   "metadata": {},
   "outputs": [],
   "source": [
    "for i in series3:\n",
    "    if i == 'Pubg':\n",
    "        publicData['What would you like to do in your free time?'].replace(to_replace = i , value = 'Play Computer Games' , inplace = True)\n",
    "    elif 'Watch' in i or 'Watching' in i:\n",
    "        publicData['What would you like to do in your free time?'].replace(to_replace = i , value = 'Watch Movies/Series/Videos' , inplace = True)\n",
    "    elif 'Hangout with friends' in i or 'Read something new' in i or 'Read Books' in i or 'Read News' in i or 'Play Computer Games' in i or 'Play Outdoor Games' in i:\n",
    "        pass\n",
    "    else:\n",
    "        publicData['What would you like to do in your free time?'].replace(to_replace = i , value = 'Others' , inplace = True)\n",
    "    "
   ]
  },
  {
   "cell_type": "code",
   "execution_count": 20,
   "metadata": {},
   "outputs": [
    {
     "data": {
      "text/plain": [
       "Watch documentaries / Educational videos                                        49\n",
       "Read Newspapers                                                                 34\n",
       "Read Books                                                                      25\n",
       "Do Courses                                                                      18\n",
       "Read Articles                                                                   11\n",
       "Cooking                                                                          2\n",
       "Mobile                                                                           2\n",
       "I am active on social media so I get latest updates and knowledge from there     2\n",
       "Iq games                                                                         1\n",
       "Social Networking Sites                                                          1\n",
       "Sleeping                                                                         1\n",
       "Through insta news account                                                       1\n",
       "communicate with others as communicating is the best way to get knowledge        1\n",
       "Name: What would you do to enhance your knowledge?, dtype: int64"
      ]
     },
     "execution_count": 20,
     "metadata": {},
     "output_type": "execute_result"
    }
   ],
   "source": [
    "publicData['What would you do to enhance your knowledge?'].value_counts()"
   ]
  },
  {
   "cell_type": "code",
   "execution_count": 21,
   "metadata": {},
   "outputs": [],
   "source": [
    "series4 = publicData['What would you do to enhance your knowledge?'].value_counts().keys()"
   ]
  },
  {
   "cell_type": "code",
   "execution_count": 22,
   "metadata": {},
   "outputs": [
    {
     "data": {
      "text/plain": [
       "Index(['Watch documentaries / Educational videos', 'Read Newspapers',\n",
       "       'Read Books', 'Do Courses', 'Read Articles', 'Cooking', 'Mobile',\n",
       "       'I am active on social media so I get latest updates and knowledge from there',\n",
       "       'Iq games', 'Social Networking Sites', 'Sleeping ',\n",
       "       'Through insta news account',\n",
       "       'communicate with others as communicating is the best way to get knowledge'],\n",
       "      dtype='object')"
      ]
     },
     "execution_count": 22,
     "metadata": {},
     "output_type": "execute_result"
    }
   ],
   "source": [
    "series4"
   ]
  },
  {
   "cell_type": "code",
   "execution_count": 23,
   "metadata": {},
   "outputs": [],
   "source": [
    "for i in series4:\n",
    "    if 'communicate' in i or 'Social' in i or 'social' in i:\n",
    "        publicData['What would you do to enhance your knowledge?'].replace(to_replace=i,value='Social Networking Sites',inplace = True)\n",
    "    elif 'Watch documentaries / Educational videos' in i or 'Read Newspapers' in i or 'Read Books' in i or 'Do Courses' in i or 'Read Articles' in i:\n",
    "        pass\n",
    "    else:\n",
    "        publicData['What would you do to enhance your knowledge?'].replace(to_replace=i,value='Others',inplace = True)        "
   ]
  },
  {
   "cell_type": "code",
   "execution_count": 24,
   "metadata": {},
   "outputs": [
    {
     "data": {
      "text/plain": [
       "Romantic                                                               91\n",
       "Classic                                                                23\n",
       "Rock                                                                   16\n",
       "Rap                                                                     4\n",
       "Punjabi                                                                 2\n",
       "Hiphop                                                                  2\n",
       "sad songs                                                               1\n",
       "Jo bhajj rha ho sun lete hai                                            1\n",
       "I like to listen only my favourite hero movie songs of any category     1\n",
       "Only my favourite hero 's song                                          1\n",
       "Depends on mood                                                         1\n",
       "Folk                                                                    1\n",
       "Evergreen bollywood songs                                               1\n",
       "Every type of song which creates some feelings inner me..               1\n",
       "Any                                                                     1\n",
       "Punjabi                                                                 1\n",
       "Name: Which type of music do you love to listen?, dtype: int64"
      ]
     },
     "execution_count": 24,
     "metadata": {},
     "output_type": "execute_result"
    }
   ],
   "source": [
    "publicData['Which type of music do you love to listen?'].value_counts()"
   ]
  },
  {
   "cell_type": "code",
   "execution_count": 25,
   "metadata": {},
   "outputs": [],
   "source": [
    "series5 = publicData['Which type of music do you love to listen?'].value_counts().keys()"
   ]
  },
  {
   "cell_type": "code",
   "execution_count": 26,
   "metadata": {},
   "outputs": [],
   "source": [
    "for i in series5:\n",
    "    if 'Romantic' in i or 'Classic' in i or 'Rock' in i or 'Hiphop' in i:\n",
    "        pass\n",
    "    elif 'Punjabi' in i:\n",
    "        publicData['Which type of music do you love to listen?'].replace(to_replace=i,value='Punjabi',inplace=True)\n",
    "    else:\n",
    "        publicData['Which type of music do you love to listen?'].replace(to_replace=i,value='Others',inplace=True)"
   ]
  },
  {
   "cell_type": "code",
   "execution_count": 27,
   "metadata": {},
   "outputs": [
    {
     "data": {
      "text/plain": [
       "Romantic    91\n",
       "Classic     23\n",
       "Rock        16\n",
       "Others      13\n",
       "Punjabi      3\n",
       "Hiphop       2\n",
       "Name: Which type of music do you love to listen?, dtype: int64"
      ]
     },
     "execution_count": 27,
     "metadata": {},
     "output_type": "execute_result"
    }
   ],
   "source": [
    "publicData['Which type of music do you love to listen?'].value_counts()"
   ]
  },
  {
   "cell_type": "code",
   "execution_count": 28,
   "metadata": {},
   "outputs": [
    {
     "data": {
      "text/plain": [
       "Watsapp                                       62\n",
       "Instagram                                     51\n",
       "Facebook                                      23\n",
       "Twitter                                        3\n",
       "Snapchat                                       2\n",
       "YouTube                                        1\n",
       "Google                                         1\n",
       "LinkedIn                                       1\n",
       "No I do not use any social networking site     1\n",
       "I donot use any social networking sites        1\n",
       "You tube                                       1\n",
       "Wattpad                                        1\n",
       "Name: Which social networking plateform do you love to use the most?, dtype: int64"
      ]
     },
     "execution_count": 28,
     "metadata": {},
     "output_type": "execute_result"
    }
   ],
   "source": [
    "publicData['Which social networking plateform do you love to use the most?'].value_counts()"
   ]
  },
  {
   "cell_type": "code",
   "execution_count": 29,
   "metadata": {},
   "outputs": [],
   "source": [
    "series6 = publicData['Which social networking plateform do you love to use the most?'].value_counts().keys()"
   ]
  },
  {
   "cell_type": "code",
   "execution_count": 30,
   "metadata": {},
   "outputs": [],
   "source": [
    "for i in series6:\n",
    "    if 'Watsapp' in i or 'Facebook' in i or 'Twitter' in i or 'Snapchat' in i or 'LinkedIn' in i or 'Instagram' in i:\n",
    "        pass\n",
    "    else:\n",
    "        publicData['Which social networking plateform do you love to use the most?'].replace(to_replace=i,value='Others',inplace=True)"
   ]
  },
  {
   "cell_type": "code",
   "execution_count": 31,
   "metadata": {},
   "outputs": [
    {
     "data": {
      "text/plain": [
       "Amazon                  59\n",
       "Flipkart                42\n",
       "Paytm Mall              21\n",
       "Myntra                  15\n",
       "Snapdeal                 4\n",
       "Misso                    1\n",
       "Lazada                   1\n",
       "Myself site              1\n",
       "Club factory             1\n",
       "Depends on discounts     1\n",
       "Shopclues                1\n",
       "None                     1\n",
       "Name: Which online shopping site do you like to prefer?, dtype: int64"
      ]
     },
     "execution_count": 31,
     "metadata": {},
     "output_type": "execute_result"
    }
   ],
   "source": [
    "publicData['Which online shopping site do you like to prefer?'].value_counts()"
   ]
  },
  {
   "cell_type": "code",
   "execution_count": 32,
   "metadata": {},
   "outputs": [],
   "source": [
    "series7 = publicData['Which online shopping site do you like to prefer?'].value_counts().keys()"
   ]
  },
  {
   "cell_type": "code",
   "execution_count": 33,
   "metadata": {},
   "outputs": [],
   "source": [
    "for i in series7:\n",
    "    if 'Depends' in i or 'Misso' in i or 'None' in i or 'site' in i or 'Lazada' in i:\n",
    "        publicData['Which online shopping site do you like to prefer?'].replace(to_replace=i,value='Others',inplace=True)\n",
    "        "
   ]
  },
  {
   "cell_type": "code",
   "execution_count": 34,
   "metadata": {},
   "outputs": [
    {
     "data": {
      "text/plain": [
       "Normal Excercises      77\n",
       "Jym                    27\n",
       "Yoga                   15\n",
       "Dieting                11\n",
       "Nothing                 4\n",
       "Nothing                 2\n",
       "Stay fit                1\n",
       "Scooty Drivingg         1\n",
       "Kuch na                 1\n",
       "Kuch nhi 😉              1\n",
       "nothing                 1\n",
       "Always keep smiling     1\n",
       "Dancing                 1\n",
       "Household jobs          1\n",
       "None                    1\n",
       "Daily Walk              1\n",
       "Workout                 1\n",
       "Its gym                 1\n",
       "Name: What would you like to do to remain fit and healthy?, dtype: int64"
      ]
     },
     "execution_count": 34,
     "metadata": {},
     "output_type": "execute_result"
    }
   ],
   "source": [
    "publicData['What would you like to do to remain fit and healthy?'].value_counts()"
   ]
  },
  {
   "cell_type": "code",
   "execution_count": 35,
   "metadata": {},
   "outputs": [],
   "source": [
    "series8 = publicData['What would you like to do to remain fit and healthy?'].value_counts().keys()"
   ]
  },
  {
   "cell_type": "code",
   "execution_count": 36,
   "metadata": {},
   "outputs": [],
   "source": [
    "for i in series8:\n",
    "    if 'Jym' in i or 'gym' in i:\n",
    "        publicData['What would you like to do to remain fit and healthy?'].replace(to_replace=i,value='Gym',inplace=True)\n",
    "    elif 'Normal' in i or 'Daily' in i or 'Dancing' in i or 'Workout' in i:\n",
    "        publicData['What would you like to do to remain fit and healthy?'].replace(to_replace=i,value='Normal Exercises',inplace=True)\n",
    "    elif 'Yoga' in i or 'Dieting' in i:\n",
    "        pass\n",
    "    else:\n",
    "        publicData['What would you like to do to remain fit and healthy?'].replace(to_replace=i,value='Nothing',inplace=True)"
   ]
  },
  {
   "cell_type": "code",
   "execution_count": 37,
   "metadata": {},
   "outputs": [
    {
     "data": {
      "text/plain": [
       "Dove                        29\n",
       "TRESemme                    22\n",
       "Head & Shoulders            20\n",
       "Kesh Kanti                  17\n",
       "Sunsilk                     12\n",
       "LOreal                      10\n",
       "Pantene                      7\n",
       "Clinic plus                  4\n",
       "Park avenue beer shampoo     2\n",
       "Clinic plus                  2\n",
       "Berdo                        1\n",
       "Clinic Plus                  1\n",
       "Nothing                      1\n",
       "Boitieque                    1\n",
       "Park Avenue,Beer Shampoo     1\n",
       "Biotique                     1\n",
       "Park Avenue                  1\n",
       "Selsun                       1\n",
       "Garnier                      1\n",
       "Matrix                       1\n",
       "Usee hi nhi krte hai         1\n",
       "Bear shampoo                 1\n",
       "Halo                         1\n",
       "Wella                        1\n",
       "Patanjali                    1\n",
       "Beer                         1\n",
       "Himalaya                     1\n",
       "Loreal                       1\n",
       "Scalpe+                      1\n",
       "Clinic +                     1\n",
       "Hello                        1\n",
       "Himalya                      1\n",
       "Wowshampoo                   1\n",
       "Name: Which shampoo brand would you like to use?, dtype: int64"
      ]
     },
     "execution_count": 37,
     "metadata": {},
     "output_type": "execute_result"
    }
   ],
   "source": [
    "publicData['Which shampoo brand would you like to use?'].value_counts()"
   ]
  },
  {
   "cell_type": "code",
   "execution_count": 38,
   "metadata": {},
   "outputs": [],
   "source": [
    "series9 = publicData['Which shampoo brand would you like to use?'].value_counts().keys()"
   ]
  },
  {
   "cell_type": "code",
   "execution_count": 39,
   "metadata": {},
   "outputs": [
    {
     "data": {
      "text/plain": [
       "Index(['Dove', 'TRESemme', 'Head & Shoulders', 'Kesh Kanti', 'Sunsilk',\n",
       "       'LOreal', 'Pantene', 'Clinic plus', 'Park avenue beer shampoo',\n",
       "       'Clinic plus ', 'Berdo', 'Clinic Plus', 'Nothing', 'Boitieque',\n",
       "       'Park Avenue,Beer Shampoo', 'Biotique', 'Park Avenue', 'Selsun',\n",
       "       'Garnier', 'Matrix', 'Usee hi nhi krte hai', 'Bear shampoo', 'Halo',\n",
       "       'Wella', 'Patanjali', 'Beer', 'Himalaya', 'Loreal', 'Scalpe+',\n",
       "       'Clinic +', 'Hello', 'Himalya', 'Wowshampoo'],\n",
       "      dtype='object')"
      ]
     },
     "execution_count": 39,
     "metadata": {},
     "output_type": "execute_result"
    }
   ],
   "source": [
    "series9"
   ]
  },
  {
   "cell_type": "code",
   "execution_count": 40,
   "metadata": {},
   "outputs": [],
   "source": [
    "for i in series9:\n",
    "    if 'Dove' in i or 'TRESemme' in i or 'Head & Shoulders' in i or 'Sunsilk' in i or 'Pantene' in i:\n",
    "        pass\n",
    "    elif 'Kesh Kanti' in i or 'Patanjali' in i:\n",
    "        publicData['Which shampoo brand would you like to use?'].replace(to_replace=i, value='Kesh Kanti',inplace = True)\n",
    "    elif 'Park' in i or 'Bear' in i :\n",
    "        publicData['Which shampoo brand would you like to use?'].replace(to_replace=i, value='Beer Shampoo',inplace = True)\n",
    "    elif 'Clinic' in i:\n",
    "        publicData['Which shampoo brand would you like to use?'].replace(to_replace=i, value='Clinic plus',inplace = True)\n",
    "    elif 'Loreal' in i or 'LOreal' in i:\n",
    "        publicData['Which shampoo brand would you like to use?'].replace(to_replace=i, value='LOreal',inplace = True)\n",
    "    else:\n",
    "        publicData['Which shampoo brand would you like to use?'].replace(to_replace=i, value='Others',inplace = True)"
   ]
  },
  {
   "cell_type": "code",
   "execution_count": 41,
   "metadata": {},
   "outputs": [
    {
     "data": {
      "text/plain": [
       "Dove                29\n",
       "TRESemme            22\n",
       "Head & Shoulders    20\n",
       "Kesh Kanti          18\n",
       "Others              16\n",
       "Sunsilk             12\n",
       "LOreal              11\n",
       "Clinic plus          8\n",
       "Pantene              7\n",
       "Beer Shampoo         5\n",
       "Name: Which shampoo brand would you like to use?, dtype: int64"
      ]
     },
     "execution_count": 41,
     "metadata": {},
     "output_type": "execute_result"
    }
   ],
   "source": [
    "publicData['Which shampoo brand would you like to use?'].value_counts()"
   ]
  },
  {
   "cell_type": "code",
   "execution_count": 42,
   "metadata": {},
   "outputs": [
    {
     "data": {
      "text/plain": [
       "Colgate       67\n",
       "Dant Kanti    48\n",
       "Close-Up      16\n",
       "Sensodyne      7\n",
       "Pepsodent      4\n",
       "Shy-nm         1\n",
       "Beer           1\n",
       "DXN            1\n",
       "Dabur red      1\n",
       "Daburred       1\n",
       "Dabar red      1\n",
       "Name: Which toothpaste brand would you like to use?, dtype: int64"
      ]
     },
     "execution_count": 42,
     "metadata": {},
     "output_type": "execute_result"
    }
   ],
   "source": [
    "publicData['Which toothpaste brand would you like to use?'].value_counts()"
   ]
  },
  {
   "cell_type": "code",
   "execution_count": 43,
   "metadata": {},
   "outputs": [],
   "source": [
    "series10 = publicData['Which toothpaste brand would you like to use?'].value_counts().keys()"
   ]
  },
  {
   "cell_type": "code",
   "execution_count": 44,
   "metadata": {},
   "outputs": [
    {
     "data": {
      "text/plain": [
       "Index(['Colgate', 'Dant Kanti', 'Close-Up', 'Sensodyne', 'Pepsodent', 'Shy-nm',\n",
       "       'Beer', 'DXN', 'Dabur red', 'Daburred', 'Dabar red'],\n",
       "      dtype='object')"
      ]
     },
     "execution_count": 44,
     "metadata": {},
     "output_type": "execute_result"
    }
   ],
   "source": [
    "series10"
   ]
  },
  {
   "cell_type": "code",
   "execution_count": 45,
   "metadata": {},
   "outputs": [],
   "source": [
    "for i in series10:\n",
    "    if 'Colgate' in i or 'Dant Kanti' in i or 'Close-Up' in i or 'Sensodyne' in i or 'Pepsodent' in i:\n",
    "        pass\n",
    "    else:\n",
    "         publicData['Which toothpaste brand would you like to use?'].replace(to_replace=i,value='Others',inplace=True)"
   ]
  },
  {
   "cell_type": "code",
   "execution_count": 46,
   "metadata": {},
   "outputs": [
    {
     "data": {
      "text/plain": [
       "Colgate       67\n",
       "Dant Kanti    48\n",
       "Close-Up      16\n",
       "Sensodyne      7\n",
       "Others         6\n",
       "Pepsodent      4\n",
       "Name: Which toothpaste brand would you like to use?, dtype: int64"
      ]
     },
     "execution_count": 46,
     "metadata": {},
     "output_type": "execute_result"
    }
   ],
   "source": [
    "publicData['Which toothpaste brand would you like to use?'].value_counts()"
   ]
  },
  {
   "cell_type": "markdown",
   "metadata": {},
   "source": [
    "# Insight 1\n",
    "### As we can see that most entries are of students.\n",
    "\n",
    "## Conclusion - Most active age group is teenage which takes part in public welfare works."
   ]
  },
  {
   "cell_type": "code",
   "execution_count": 47,
   "metadata": {},
   "outputs": [
    {
     "data": {
      "image/png": "[encoded data removed]",
      "text/plain": [
       "<Figure size 432x288 with 1 Axes>"
      ]
     },
     "metadata": {
      "needs_background": "light"
     },
     "output_type": "display_data"
    }
   ],
   "source": [
    "sns.countplot(x='Which age group do you belong to?',data=publicData,hue='What is your profession?')"
   ]
  },
  {
   "cell_type": "code",
   "execution_count": 48,
   "metadata": {},
   "outputs": [],
   "source": [
    "a=publicData['Who is your favourate political leader in India?'].value_counts()\n",
    "label1=a.keys()"
   ]
  },
  {
   "cell_type": "code",
   "execution_count": 49,
   "metadata": {},
   "outputs": [],
   "source": [
    "value1=a.values"
   ]
  },
  {
   "cell_type": "markdown",
   "metadata": {},
   "source": [
    "# Insight 2\n",
    "\n",
    "## Narendra Modi is the favourite political leader among all age groups in 2k18"
   ]
  },
  {
   "cell_type": "code",
   "execution_count": 50,
   "metadata": {},
   "outputs": [
    {
     "name": "stderr",
     "output_type": "stream",
     "text": [
      "C:\\Users\\Shantanu\\Anaconda3\\lib\\site-packages\\IPython\\core\\display.py:689: UserWarning:\n",
      "\n",
      "Consider using IPython.display.IFrame instead\n",
      "\n"
     ]
    },
    {
     "data": {
      "text/html": [
       "<iframe id=\"igraph\" scrolling=\"no\" style=\"border:none;\" seamless=\"seamless\" src=\"https://plot.ly/~shantanu0304/194.embed\" height=\"525px\" width=\"100%\"></iframe>"
      ],
      "text/plain": [
       "<plotly.tools.PlotlyDisplay object>"
      ]
     },
     "execution_count": 50,
     "metadata": {},
     "output_type": "execute_result"
    }
   ],
   "source": [
    "trace = go.Pie(labels=label1, values=value1,title='Favourite Political Leader',marker=dict(line=dict(color='#000000', width=2)))\n",
    "py.iplot([trace])"
   ]
  },
  {
   "cell_type": "code",
   "execution_count": 51,
   "metadata": {},
   "outputs": [],
   "source": [
    "b=publicData['Do you think Narendra Modi has the ability to transform India?'].value_counts()"
   ]
  },
  {
   "cell_type": "code",
   "execution_count": 52,
   "metadata": {},
   "outputs": [],
   "source": [
    "label2=b.keys()\n",
    "value2=b.values"
   ]
  },
  {
   "cell_type": "markdown",
   "metadata": {},
   "source": [
    "# Insight 3\n",
    "\n",
    "## Narendra modi has the ability to transform India"
   ]
  },
  {
   "cell_type": "code",
   "execution_count": 53,
   "metadata": {},
   "outputs": [
    {
     "name": "stderr",
     "output_type": "stream",
     "text": [
      "C:\\Users\\Shantanu\\Anaconda3\\lib\\site-packages\\IPython\\core\\display.py:689: UserWarning:\n",
      "\n",
      "Consider using IPython.display.IFrame instead\n",
      "\n"
     ]
    },
    {
     "data": {
      "text/html": [
       "<iframe id=\"igraph\" scrolling=\"no\" style=\"border:none;\" seamless=\"seamless\" src=\"https://plot.ly/~shantanu0304/196.embed\" height=\"525px\" width=\"100%\"></iframe>"
      ],
      "text/plain": [
       "<plotly.tools.PlotlyDisplay object>"
      ]
     },
     "execution_count": 53,
     "metadata": {},
     "output_type": "execute_result"
    }
   ],
   "source": [
    "trace = go.Pie(labels=label2, values=value2,title='Do Narendra Modi has the ability to transform India?',\n",
    "               marker=dict(line=dict(color='#000000', width=2)))\n",
    "py.iplot([trace])"
   ]
  },
  {
   "cell_type": "markdown",
   "metadata": {},
   "source": [
    "# Insight 4 \n",
    "\n",
    "## Time dedicated for mobile phone in one day"
   ]
  },
  {
   "cell_type": "code",
   "execution_count": 54,
   "metadata": {},
   "outputs": [],
   "source": [
    "c=publicData['How much time do you give to your mobile phone in one day?'].value_counts()\n",
    "label3=c.keys()\n",
    "value3=c.values"
   ]
  },
  {
   "cell_type": "code",
   "execution_count": 55,
   "metadata": {},
   "outputs": [
    {
     "name": "stderr",
     "output_type": "stream",
     "text": [
      "C:\\Users\\Shantanu\\Anaconda3\\lib\\site-packages\\IPython\\core\\display.py:689: UserWarning:\n",
      "\n",
      "Consider using IPython.display.IFrame instead\n",
      "\n"
     ]
    },
    {
     "data": {
      "text/html": [
       "<iframe id=\"igraph\" scrolling=\"no\" style=\"border:none;\" seamless=\"seamless\" src=\"https://plot.ly/~shantanu0304/198.embed\" height=\"525px\" width=\"100%\"></iframe>"
      ],
      "text/plain": [
       "<plotly.tools.PlotlyDisplay object>"
      ]
     },
     "execution_count": 55,
     "metadata": {},
     "output_type": "execute_result"
    }
   ],
   "source": [
    "data=[go.Bar(x=label3,y=value3)]\n",
    "layout=go.Layout(title='Time dedicated to mobile phone')\n",
    "trace=go.Figure(data=data,layout=layout)\n",
    "py.iplot(trace)"
   ]
  },
  {
   "cell_type": "markdown",
   "metadata": {},
   "source": [
    "## Conclusion-\n",
    "### Excessive use of mobile phones can cause various types of problems in the body so it must be limited to 1-3 hours a day as practiced by most of the people"
   ]
  },
  {
   "cell_type": "markdown",
   "metadata": {},
   "source": [
    "# Insight 5 \n",
    "\n",
    "## People mostly like to hangout with friends in there spare time\n",
    "## People mostly like to watch educational videos/Documentries to enhance their knowledge"
   ]
  },
  {
   "cell_type": "code",
   "execution_count": 56,
   "metadata": {},
   "outputs": [
    {
     "data": {
      "image/png": "[encoded data removed]",
      "text/plain": [
       "<Figure size 1440x720 with 2 Axes>"
      ]
     },
     "metadata": {
      "needs_background": "light"
     },
     "output_type": "display_data"
    }
   ],
   "source": [
    "fig , axs = plt.subplots(1,2,figsize=(20,10))\n",
    "\n",
    "d=publicData['What would you like to do in your free time?'].value_counts()\n",
    "label4=list(d.keys())\n",
    "value4=list(d.values)\n",
    "axs[0].barh(label4,value4)\n",
    "axs[0].set_title(\"People Like to do in their spare time\",fontsize=15)\n",
    "\n",
    "e=publicData['What would you do to enhance your knowledge?'].value_counts()\n",
    "label5=list(e.keys())\n",
    "value5=list(e.values)\n",
    "axs[1].barh(label5,value5)\n",
    "axs[1].set_title(\"People Like to do to enhance your knowledge\",fontsize=15)\n",
    "\n",
    "plt.tight_layout()"
   ]
  },
  {
   "cell_type": "markdown",
   "metadata": {},
   "source": [
    "## Conclusion - \n",
    "### If, instead of hanging out with friends or watch movies/Series/Videos, people do some productive work then it will surely help in defining a better future."
   ]
  },
  {
   "cell_type": "markdown",
   "metadata": {},
   "source": [
    "# Insight 6 \n",
    "## People mostly love to listen romantic songs"
   ]
  },
  {
   "cell_type": "code",
   "execution_count": 57,
   "metadata": {},
   "outputs": [],
   "source": [
    "f=publicData['Which type of music do you love to listen?'].value_counts()\n",
    "label6=f.keys()\n",
    "value6=f.values"
   ]
  },
  {
   "cell_type": "code",
   "execution_count": 58,
   "metadata": {},
   "outputs": [
    {
     "name": "stderr",
     "output_type": "stream",
     "text": [
      "C:\\Users\\Shantanu\\Anaconda3\\lib\\site-packages\\IPython\\core\\display.py:689: UserWarning:\n",
      "\n",
      "Consider using IPython.display.IFrame instead\n",
      "\n"
     ]
    },
    {
     "data": {
      "text/html": [
       "<iframe id=\"igraph\" scrolling=\"no\" style=\"border:none;\" seamless=\"seamless\" src=\"https://plot.ly/~shantanu0304/200.embed\" height=\"525px\" width=\"100%\"></iframe>"
      ],
      "text/plain": [
       "<plotly.tools.PlotlyDisplay object>"
      ]
     },
     "execution_count": 58,
     "metadata": {},
     "output_type": "execute_result"
    }
   ],
   "source": [
    "trace = go.Pie(labels=label6,values=value6,title='Popular music generes',marker=dict(line=dict(color='#000000', width=2)))\n",
    "py.iplot([trace])"
   ]
  },
  {
   "cell_type": "code",
   "execution_count": 59,
   "metadata": {},
   "outputs": [
    {
     "data": {
      "image/png": "[encoded data removed]",
      "text/plain": [
       "<Figure size 432x288 with 1 Axes>"
      ]
     },
     "metadata": {
      "needs_background": "light"
     },
     "output_type": "display_data"
    }
   ],
   "source": [
    "sns.countplot(x='Which type of music do you love to listen?',hue='Which type of marriage is best?',data=publicData)"
   ]
  },
  {
   "cell_type": "markdown",
   "metadata": {},
   "source": [
    "## Conclusion - \n",
    "### Studies shows that music can actually makes you better as it does a serious impact on a person's brain activity and also helps in remembering things for a long time.\n",
    "\n",
    "### Music defines the nature of people as the insights suggests that the person that listen romantic music is romantic in nature an prefer love marriage an the one who loves classic music is shy an mostly prefer arrange marriage."
   ]
  },
  {
   "cell_type": "markdown",
   "metadata": {},
   "source": [
    "# Insight 7\n",
    "## The person who uses his mobile for 3-5 hr mostly invest his time in watching educational videos and documentries"
   ]
  },
  {
   "cell_type": "code",
   "execution_count": 60,
   "metadata": {},
   "outputs": [
    {
     "data": {
      "image/png": "[encoded data removed]",
      "text/plain": [
       "<Figure size 971.125x360 with 1 Axes>"
      ]
     },
     "metadata": {
      "needs_background": "light"
     },
     "output_type": "display_data"
    }
   ],
   "source": [
    "sns.catplot(x='How much time do you give to your mobile phone in one day?',hue='What would you do to enhance your knowledge?',data=publicData,kind='count',height=5,aspect=2)"
   ]
  },
  {
   "cell_type": "markdown",
   "metadata": {},
   "source": [
    "# Insight 8 \n",
    "## Watsapp is the most famous social networking plateform of 2k18\n",
    "## Among teenagers Instagram is more famous\n",
    "## Among the olds Facebook is more famous"
   ]
  },
  {
   "cell_type": "code",
   "execution_count": 61,
   "metadata": {},
   "outputs": [],
   "source": [
    "h=publicData['Which social networking plateform do you love to use the most?'].value_counts()\n",
    "label8=h.keys()\n",
    "value8=h.values"
   ]
  },
  {
   "cell_type": "code",
   "execution_count": 62,
   "metadata": {},
   "outputs": [
    {
     "name": "stderr",
     "output_type": "stream",
     "text": [
      "C:\\Users\\Shantanu\\Anaconda3\\lib\\site-packages\\IPython\\core\\display.py:689: UserWarning:\n",
      "\n",
      "Consider using IPython.display.IFrame instead\n",
      "\n"
     ]
    },
    {
     "data": {
      "text/html": [
       "<iframe id=\"igraph\" scrolling=\"no\" style=\"border:none;\" seamless=\"seamless\" src=\"https://plot.ly/~shantanu0304/202.embed\" height=\"525px\" width=\"100%\"></iframe>"
      ],
      "text/plain": [
       "<plotly.tools.PlotlyDisplay object>"
      ]
     },
     "execution_count": 62,
     "metadata": {},
     "output_type": "execute_result"
    }
   ],
   "source": [
    "trace = go.Pie(labels=label8,values=value8,title='Famous Social Networking Plateforms',marker=dict(line=dict(color='#000000', width=2)))\n",
    "py.iplot([trace])"
   ]
  },
  {
   "cell_type": "code",
   "execution_count": 63,
   "metadata": {
    "scrolled": true
   },
   "outputs": [
    {
     "data": {
      "image/png": "[encoded data removed]",
      "text/plain": [
       "<Figure size 1049x360 with 1 Axes>"
      ]
     },
     "metadata": {
      "needs_background": "light"
     },
     "output_type": "display_data"
    }
   ],
   "source": [
    "sns.catplot(x='Which age group do you belong to?',hue='Which social networking plateform do you love to use the most?',kind='count',data=publicData,height=5,aspect=2)"
   ]
  },
  {
   "cell_type": "markdown",
   "metadata": {},
   "source": [
    "# Insight 9\n",
    "## Amazon is the most famous online shopping market of 2k18"
   ]
  },
  {
   "cell_type": "code",
   "execution_count": 64,
   "metadata": {},
   "outputs": [],
   "source": [
    "i=publicData['Which online shopping site do you like to prefer?'].value_counts()\n",
    "label9=i.keys()\n",
    "value9=i.values"
   ]
  },
  {
   "cell_type": "code",
   "execution_count": 65,
   "metadata": {},
   "outputs": [
    {
     "name": "stderr",
     "output_type": "stream",
     "text": [
      "C:\\Users\\Shantanu\\Anaconda3\\lib\\site-packages\\IPython\\core\\display.py:689: UserWarning:\n",
      "\n",
      "Consider using IPython.display.IFrame instead\n",
      "\n"
     ]
    },
    {
     "data": {
      "text/html": [
       "<iframe id=\"igraph\" scrolling=\"no\" style=\"border:none;\" seamless=\"seamless\" src=\"https://plot.ly/~shantanu0304/204.embed\" height=\"525px\" width=\"100%\"></iframe>"
      ],
      "text/plain": [
       "<plotly.tools.PlotlyDisplay object>"
      ]
     },
     "execution_count": 65,
     "metadata": {},
     "output_type": "execute_result"
    }
   ],
   "source": [
    "trace=go.Pie(labels=label9,values=value9,title='Famous online shopping markets',marker=dict(line=dict(color='#000000', width=2)))\n",
    "py.iplot([trace])"
   ]
  },
  {
   "cell_type": "code",
   "execution_count": 66,
   "metadata": {
    "scrolled": false
   },
   "outputs": [
    {
     "data": {
      "image/png": "[encoded data removed]",
      "text/plain": [
       "<Figure size 972.25x360 with 1 Axes>"
      ]
     },
     "metadata": {
      "needs_background": "light"
     },
     "output_type": "display_data"
    }
   ],
   "source": [
    "sns.catplot(x='Which age group do you belong to?',hue='Which online shopping site do you like to prefer?',kind='count',data=publicData,height=5,aspect=2)"
   ]
  },
  {
   "cell_type": "markdown",
   "metadata": {},
   "source": [
    "# Insight 10\n",
    "## Time dedicated for parents"
   ]
  },
  {
   "cell_type": "code",
   "execution_count": 67,
   "metadata": {},
   "outputs": [],
   "source": [
    "j=publicData['How much time you give to your parents in a day?'].value_counts()\n",
    "label10=j.keys()\n",
    "value10=j.values"
   ]
  },
  {
   "cell_type": "code",
   "execution_count": 68,
   "metadata": {
    "scrolled": false
   },
   "outputs": [
    {
     "name": "stderr",
     "output_type": "stream",
     "text": [
      "C:\\Users\\Shantanu\\Anaconda3\\lib\\site-packages\\IPython\\core\\display.py:689: UserWarning:\n",
      "\n",
      "Consider using IPython.display.IFrame instead\n",
      "\n"
     ]
    },
    {
     "data": {
      "text/html": [
       "<iframe id=\"igraph\" scrolling=\"no\" style=\"border:none;\" seamless=\"seamless\" src=\"https://plot.ly/~shantanu0304/206.embed\" height=\"525px\" width=\"100%\"></iframe>"
      ],
      "text/plain": [
       "<plotly.tools.PlotlyDisplay object>"
      ]
     },
     "execution_count": 68,
     "metadata": {},
     "output_type": "execute_result"
    }
   ],
   "source": [
    "data=[go.Bar(x=label10,y=value10)]\n",
    "layout=go.Layout(title='Time dedicated for parents')\n",
    "trace=go.Figure(data=data,layout=layout)\n",
    "py.iplot(trace)"
   ]
  },
  {
   "cell_type": "markdown",
   "metadata": {},
   "source": [
    "## Conclusion - \n",
    "### In today's world majority of people have very less time for their parents."
   ]
  },
  {
   "cell_type": "markdown",
   "metadata": {},
   "source": [
    "# Insight 11\n",
    "## In today's world people mostly do normal exercises like jogging, dancing, workouts etc."
   ]
  },
  {
   "cell_type": "code",
   "execution_count": 69,
   "metadata": {},
   "outputs": [
    {
     "name": "stderr",
     "output_type": "stream",
     "text": [
      "C:\\Users\\Shantanu\\Anaconda3\\lib\\site-packages\\IPython\\core\\display.py:689: UserWarning:\n",
      "\n",
      "Consider using IPython.display.IFrame instead\n",
      "\n"
     ]
    },
    {
     "data": {
      "text/html": [
       "<iframe id=\"igraph\" scrolling=\"no\" style=\"border:none;\" seamless=\"seamless\" src=\"https://plot.ly/~shantanu0304/208.embed\" height=\"525px\" width=\"100%\"></iframe>"
      ],
      "text/plain": [
       "<plotly.tools.PlotlyDisplay object>"
      ]
     },
     "execution_count": 69,
     "metadata": {},
     "output_type": "execute_result"
    }
   ],
   "source": [
    "k=publicData['What would you like to do to remain fit and healthy?'].value_counts()\n",
    "label11=k.keys()\n",
    "value11=k.values\n",
    "\n",
    "trace=go.Pie(labels=label11,values=value11,title=\"Famous ways to remain fit n healthy in today's world\",marker=dict(line=dict(color='#000000', width=2)))\n",
    "py.iplot([trace])"
   ]
  },
  {
   "cell_type": "markdown",
   "metadata": {},
   "source": [
    "# Insight 12\n",
    "## People mostly use different kinds of shampoo brands for different hair types"
   ]
  },
  {
   "cell_type": "code",
   "execution_count": 70,
   "metadata": {},
   "outputs": [
    {
     "name": "stderr",
     "output_type": "stream",
     "text": [
      "C:\\Users\\Shantanu\\Anaconda3\\lib\\site-packages\\IPython\\core\\display.py:689: UserWarning:\n",
      "\n",
      "Consider using IPython.display.IFrame instead\n",
      "\n"
     ]
    },
    {
     "data": {
      "text/html": [
       "<iframe id=\"igraph\" scrolling=\"no\" style=\"border:none;\" seamless=\"seamless\" src=\"https://plot.ly/~shantanu0304/210.embed\" height=\"525px\" width=\"100%\"></iframe>"
      ],
      "text/plain": [
       "<plotly.tools.PlotlyDisplay object>"
      ]
     },
     "execution_count": 70,
     "metadata": {},
     "output_type": "execute_result"
    }
   ],
   "source": [
    "l=publicData['Which shampoo brand would you like to use?'].value_counts()\n",
    "label12=l.keys()\n",
    "value12=l.values\n",
    "\n",
    "trace=go.Pie(labels=label12,values=value12,title=\"Famous Shampoo Brand\",marker=dict(line=dict(color='#000000', width=2)))\n",
    "py.iplot([trace])"
   ]
  },
  {
   "cell_type": "markdown",
   "metadata": {},
   "source": [
    "# Insight 13\n",
    "## In 2k18 Colgate is the most famous toothpaste brand as it is most promising among other brands\n",
    "## It is also observed that Dant Kanti by patanjali is more famous among old age groups"
   ]
  },
  {
   "cell_type": "code",
   "execution_count": 71,
   "metadata": {},
   "outputs": [
    {
     "name": "stderr",
     "output_type": "stream",
     "text": [
      "C:\\Users\\Shantanu\\Anaconda3\\lib\\site-packages\\IPython\\core\\display.py:689: UserWarning:\n",
      "\n",
      "Consider using IPython.display.IFrame instead\n",
      "\n"
     ]
    },
    {
     "data": {
      "text/html": [
       "<iframe id=\"igraph\" scrolling=\"no\" style=\"border:none;\" seamless=\"seamless\" src=\"https://plot.ly/~shantanu0304/212.embed\" height=\"525px\" width=\"100%\"></iframe>"
      ],
      "text/plain": [
       "<plotly.tools.PlotlyDisplay object>"
      ]
     },
     "execution_count": 71,
     "metadata": {},
     "output_type": "execute_result"
    }
   ],
   "source": [
    "m=publicData['Which toothpaste brand would you like to use?'].value_counts()\n",
    "label13=m.keys()\n",
    "value13=m.values\n",
    "\n",
    "trace=go.Pie(labels=label13,values=value13,title=\"Famous Toothpaste Brand\",marker=dict(line=dict(color='#000000', width=2)))\n",
    "py.iplot([trace])"
   ]
  },
  {
   "cell_type": "code",
   "execution_count": 72,
   "metadata": {},
   "outputs": [
    {
     "data": {
      "image/png": "[encoded data removed]",
      "text/plain": [
       "<Figure size 962.375x360 with 1 Axes>"
      ]
     },
     "metadata": {
      "needs_background": "light"
     },
     "output_type": "display_data"
    }
   ],
   "source": [
    "sns.catplot(x='Which age group do you belong to?',hue='Which toothpaste brand would you like to use?',kind='count',data=publicData,height=5,aspect=2)"
   ]
  },
  {
   "cell_type": "code",
   "execution_count": 73,
   "metadata": {},
   "outputs": [],
   "source": [
    "publicData.to_csv('publicData.csv')"
   ]
  },
  {
   "cell_type": "markdown",
   "metadata": {},
   "source": [
    "# Insights using Tableau"
   ]
  },
  {
   "cell_type": "code",
   "execution_count": 74,
   "metadata": {},
   "outputs": [
    {
     "data": {
      "image/png": "[encoded data removed]",
      "text/plain": [
       "<IPython.core.display.Image object>"
      ]
     },
     "execution_count": 74,
     "metadata": {},
     "output_type": "execute_result"
    }
   ],
   "source": [
    "Image(filename='img1.png')"
   ]
  },
  {
   "cell_type": "code",
   "execution_count": 75,
   "metadata": {},
   "outputs": [
    {
     "data": {
      "image/png": "[encoded data removed]",
      "text/plain": [
       "<IPython.core.display.Image object>"
      ]
     },
     "execution_count": 75,
     "metadata": {},
     "output_type": "execute_result"
    }
   ],
   "source": [
    "Image(filename='img2.png')"
   ]
  },
  {
   "cell_type": "code",
   "execution_count": 76,
   "metadata": {
    "scrolled": false
   },
   "outputs": [
    {
     "data": {
      "image/png": "[encoded data removed]",
      "text/plain": [
       "<IPython.core.display.Image object>"
      ]
     },
     "execution_count": 76,
     "metadata": {},
     "output_type": "execute_result"
    }
   ],
   "source": [
    "Image(filename='img3.png')"
   ]
  },
  {
   "cell_type": "markdown",
   "metadata": {},
   "source": [
    "# Interactive app using Bokeh plotting library"
   ]
  },
  {
   "cell_type": "code",
   "execution_count": 77,
   "metadata": {},
   "outputs": [
    {
     "data": {
      "text/html": [
       "<div style=\"display: table;\"><div style=\"display: table-row;\"><div style=\"display: table-cell;\"><b title=\"bokeh.models.renderers.GlyphRenderer\">GlyphRenderer</b>(</div><div style=\"display: table-cell;\">id&nbsp;=&nbsp;'1151', <span id=\"1154\" style=\"cursor: pointer;\">&hellip;)</span></div></div><div class=\"1153\" style=\"display: none;\"><div style=\"display: table-cell;\"></div><div style=\"display: table-cell;\">data_source&nbsp;=&nbsp;ColumnDataSource(id='1148', ...),</div></div><div class=\"1153\" style=\"display: none;\"><div style=\"display: table-cell;\"></div><div style=\"display: table-cell;\">glyph&nbsp;=&nbsp;VBar(id='1149', ...),</div></div><div class=\"1153\" style=\"display: none;\"><div style=\"display: table-cell;\"></div><div style=\"display: table-cell;\">hover_glyph&nbsp;=&nbsp;None,</div></div><div class=\"1153\" style=\"display: none;\"><div style=\"display: table-cell;\"></div><div style=\"display: table-cell;\">js_event_callbacks&nbsp;=&nbsp;{},</div></div><div class=\"1153\" style=\"display: none;\"><div style=\"display: table-cell;\"></div><div style=\"display: table-cell;\">js_property_callbacks&nbsp;=&nbsp;{},</div></div><div class=\"1153\" style=\"display: none;\"><div style=\"display: table-cell;\"></div><div style=\"display: table-cell;\">level&nbsp;=&nbsp;'glyph',</div></div><div class=\"1153\" style=\"display: none;\"><div style=\"display: table-cell;\"></div><div style=\"display: table-cell;\">muted&nbsp;=&nbsp;False,</div></div><div class=\"1153\" style=\"display: none;\"><div style=\"display: table-cell;\"></div><div style=\"display: table-cell;\">muted_glyph&nbsp;=&nbsp;None,</div></div><div class=\"1153\" style=\"display: none;\"><div style=\"display: table-cell;\"></div><div style=\"display: table-cell;\">name&nbsp;=&nbsp;None,</div></div><div class=\"1153\" style=\"display: none;\"><div style=\"display: table-cell;\"></div><div style=\"display: table-cell;\">nonselection_glyph&nbsp;=&nbsp;VBar(id='1150', ...),</div></div><div class=\"1153\" style=\"display: none;\"><div style=\"display: table-cell;\"></div><div style=\"display: table-cell;\">selection_glyph&nbsp;=&nbsp;None,</div></div><div class=\"1153\" style=\"display: none;\"><div style=\"display: table-cell;\"></div><div style=\"display: table-cell;\">subscribed_events&nbsp;=&nbsp;[],</div></div><div class=\"1153\" style=\"display: none;\"><div style=\"display: table-cell;\"></div><div style=\"display: table-cell;\">tags&nbsp;=&nbsp;[],</div></div><div class=\"1153\" style=\"display: none;\"><div style=\"display: table-cell;\"></div><div style=\"display: table-cell;\">view&nbsp;=&nbsp;CDSView(id='1152', ...),</div></div><div class=\"1153\" style=\"display: none;\"><div style=\"display: table-cell;\"></div><div style=\"display: table-cell;\">visible&nbsp;=&nbsp;True,</div></div><div class=\"1153\" style=\"display: none;\"><div style=\"display: table-cell;\"></div><div style=\"display: table-cell;\">x_range_name&nbsp;=&nbsp;'default',</div></div><div class=\"1153\" style=\"display: none;\"><div style=\"display: table-cell;\"></div><div style=\"display: table-cell;\">y_range_name&nbsp;=&nbsp;'default')</div></div></div>\n",
       "<script>\n",
       "(function() {\n",
       "  var expanded = false;\n",
       "  var ellipsis = document.getElementById(\"1154\");\n",
       "  ellipsis.addEventListener(\"click\", function() {\n",
       "    var rows = document.getElementsByClassName(\"1153\");\n",
       "    for (var i = 0; i < rows.length; i++) {\n",
       "      var el = rows[i];\n",
       "      el.style.display = expanded ? \"none\" : \"table-row\";\n",
       "    }\n",
       "    ellipsis.innerHTML = expanded ? \"&hellip;)\" : \"&lsaquo;&lsaquo;&lsaquo;\";\n",
       "    expanded = !expanded;\n",
       "  });\n",
       "})();\n",
       "</script>\n"
      ],
      "text/plain": [
       "GlyphRenderer(id='1151', ...)"
      ]
     },
     "execution_count": 77,
     "metadata": {},
     "output_type": "execute_result"
    }
   ],
   "source": [
    "p1 = figure(x_range=label1.tolist(), plot_height=400,toolbar_location=None)\n",
    "p1.vbar(x=label1.tolist(), top=value1.tolist(), width=0.9)\n",
    "\n",
    "p2 = figure(x_range=label6.tolist(), plot_height=400,toolbar_location=None)\n",
    "p2.vbar(x=label6.tolist(), top=value6.tolist(), width=0.9)\n",
    "\n",
    "p3 = figure(x_range=label8.tolist(), plot_height=400,toolbar_location=None)\n",
    "p3.vbar(x=label8.tolist(), top=value8.tolist(), width=0.9)\n",
    "\n",
    "p4 = figure(x_range=label9.tolist(), plot_height=400,toolbar_location=None)\n",
    "p4.vbar(x=label9.tolist(), top=value9.tolist(), width=0.9)"
   ]
  },
  {
   "cell_type": "code",
   "execution_count": 78,
   "metadata": {},
   "outputs": [],
   "source": [
    "t1=Panel(child=p1,title='Favourite political leader')\n",
    "t2=Panel(child=p2,title='Popular music generes')\n",
    "t3=Panel(child=p3,title='Famous Social Networking Plateforms')\n",
    "t4=Panel(child=p4,title='Famous online shopping markets')"
   ]
  },
  {
   "cell_type": "code",
   "execution_count": 79,
   "metadata": {},
   "outputs": [],
   "source": [
    "layout = Tabs(tabs=[t1,t2,t3,t4])\n",
    "curdoc().add_root(layout)\n",
    "output_file('visualizations.html')\n",
    "show(layout)"
   ]
  }
 ],
 "metadata": {
  "kernelspec": {
   "display_name": "Python 3",
   "language": "python",
   "name": "python3"
  },
  "language_info": {
   "codemirror_mode": {
    "name": "ipython",
    "version": 3
   },
   "file_extension": ".py",
   "mimetype": "text/x-python",
   "name": "python",
   "nbconvert_exporter": "python",
   "pygments_lexer": "ipython3",
   "version": "3.7.1"
  }
 },
 "nbformat": 4,
 "nbformat_minor": 2
}
